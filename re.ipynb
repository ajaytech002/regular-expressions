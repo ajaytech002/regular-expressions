{
 "cells": [
  {
   "cell_type": "markdown",
   "metadata": {},
   "source": [
    "# Python Regular Expressions"
   ]
  },
  {
   "cell_type": "markdown",
   "metadata": {},
   "source": [
    "- Extract phone numbers - v1, v2, v3, v4, v5\n",
    "- Extract emails\n",
    "- Extract zip codes\n",
    "- Log file analysis\n",
    " - Challenge\n",
    "- URL Extractor\n",
    "- Credit cards Extractor\n",
    "- Word occurrences\n",
    "- Regular Expressions Cheatsheet"
   ]
  },
  {
   "cell_type": "markdown",
   "metadata": {},
   "source": [
    "Regular expressions are a very important tool for a data scientist or a machine learning engineer. Regular expressions is dry and boring topic to learn. But the problems Regular Expressions solve are very real and interesting. So, we will learn Regular Expressions with a problem solving approach. We will define a series of small problems, solve them step by step and with each problem, we will learn some of the aspects of Regular Expressions. \n",
    "\n",
    "If you are not comfortable with this kind of non-linear approach, this course might not be for you. "
   ]
  },
  {
   "cell_type": "markdown",
   "metadata": {},
   "source": []
  },
  {
   "cell_type": "markdown",
   "metadata": {},
   "source": [
    "###  Extract phone numbers - v1"
   ]
  },
  {
   "cell_type": "markdown",
   "metadata": {},
   "source": [
    "**Problem** - Extract all the phone numbers from this text."
   ]
  },
  {
   "cell_type": "code",
   "execution_count": 93,
   "metadata": {
    "collapsed": true,
    "jupyter": {
     "outputs_hidden": true
    }
   },
   "outputs": [],
   "source": [
    "numbers = '''There are 3 phone numbers that you need to call in case of medical emergency. \n",
    "For casualty, call 408-202-2222. For elderly emergencies, call 408-203-2222 and\n",
    "for everything else call 408-202-4444\n",
    "'''"
   ]
  },
  {
   "cell_type": "markdown",
   "metadata": {},
   "source": [
    "Let's take a much simpler case - just a list of 3 phone numbers and no text. If the patter is at the beginning of the string, you can use the **match ( )** function. Also, **match ( )** function only returns the first occurance. "
   ]
  },
  {
   "cell_type": "code",
   "execution_count": 298,
   "metadata": {
    "collapsed": true,
    "jupyter": {
     "outputs_hidden": true
    }
   },
   "outputs": [],
   "source": [
    "import re  #import for regular expressions"
   ]
  },
  {
   "cell_type": "code",
   "execution_count": 141,
   "metadata": {
    "collapsed": true,
    "jupyter": {
     "outputs_hidden": true
    }
   },
   "outputs": [],
   "source": [
    "numbers = '''408-202-2222\n",
    "             408-203-2222\n",
    "             408-202-4444'''"
   ]
  },
  {
   "cell_type": "code",
   "execution_count": 142,
   "metadata": {
    "collapsed": true,
    "jupyter": {
     "outputs_hidden": true
    }
   },
   "outputs": [],
   "source": [
    "match = re.match(\"408-\\d\\d\\d-\\d\\d\\d\\d\",numbers)"
   ]
  },
  {
   "cell_type": "code",
   "execution_count": 143,
   "metadata": {
    "collapsed": true,
    "jupyter": {
     "outputs_hidden": true
    }
   },
   "outputs": [
    {
     "name": "stdout",
     "output_type": "stream",
     "text": [
      "<re.Match object; span=(0, 12), match='408-202-2222'>\n"
     ]
    }
   ],
   "source": [
    "print ( match )"
   ]
  },
  {
   "cell_type": "markdown",
   "metadata": {},
   "source": [
    "**match ( )** function returns a match object. It contains the span (the start and end of the match) and the actual match itself. Use the *group ( ), span( ), start( ) and end( )* functions to get the specifics of the match."
   ]
  },
  {
   "cell_type": "code",
   "execution_count": 116,
   "metadata": {
    "collapsed": true,
    "jupyter": {
     "outputs_hidden": true
    }
   },
   "outputs": [
    {
     "name": "stdout",
     "output_type": "stream",
     "text": [
      "matching text  =  408-202-2222\n",
      "start position =  0\n",
      "end position   =  12\n"
     ]
    }
   ],
   "source": [
    "print ( \"matching text  = \", match.group())\n",
    "print ( \"start position = \", match.start())\n",
    "print ( \"end position   = \",match.end())"
   ]
  },
  {
   "cell_type": "markdown",
   "metadata": {},
   "source": [
    "Let's try something slightly different with **match ( )** function. Will it be able to pick the pattern from this text ?"
   ]
  },
  {
   "cell_type": "code",
   "execution_count": 118,
   "metadata": {
    "collapsed": true,
    "jupyter": {
     "outputs_hidden": true
    }
   },
   "outputs": [],
   "source": [
    "numbers = '''\n",
    "             408-202-2222\n",
    "             408-203-2222\n",
    "             408-202-4444'''"
   ]
  },
  {
   "cell_type": "code",
   "execution_count": 144,
   "metadata": {
    "collapsed": true,
    "jupyter": {
     "outputs_hidden": true
    }
   },
   "outputs": [],
   "source": [
    "match = re.match(\"408-\\d\\d\\d-\\d\\d\\d\\d\",numbers)"
   ]
  },
  {
   "cell_type": "code",
   "execution_count": 145,
   "metadata": {
    "collapsed": true,
    "jupyter": {
     "outputs_hidden": true
    }
   },
   "outputs": [
    {
     "name": "stdout",
     "output_type": "stream",
     "text": [
      "<re.Match object; span=(0, 12), match='408-202-2222'>\n"
     ]
    }
   ],
   "source": [
    "print ( match )"
   ]
  },
  {
   "cell_type": "markdown",
   "metadata": {},
   "source": [
    "No. Why is that ? **match ( )** function can only find out the pattern at the beginning of the string. In this case, the first line is a blank line. So, the **match ( )** function fails. In cases like this, use the **search ( )** function. In contrast to the **match ( )** function, the **search ( )** function can extract patterns anywhere in the text."
   ]
  },
  {
   "cell_type": "code",
   "execution_count": 146,
   "metadata": {
    "collapsed": true,
    "jupyter": {
     "outputs_hidden": true
    }
   },
   "outputs": [],
   "source": [
    "match = re.search(\"408-\\d\\d\\d-\\d\\d\\d\\d\",numbers)"
   ]
  },
  {
   "cell_type": "code",
   "execution_count": 147,
   "metadata": {
    "collapsed": true,
    "jupyter": {
     "outputs_hidden": true
    }
   },
   "outputs": [
    {
     "name": "stdout",
     "output_type": "stream",
     "text": [
      "<re.Match object; span=(0, 12), match='408-202-2222'>\n"
     ]
    }
   ],
   "source": [
    "print ( match )"
   ]
  },
  {
   "cell_type": "markdown",
   "metadata": {},
   "source": [
    "But, we are still getting the first match only. We wanted all the matches, right ? Botht he **search ( )** and **match ( )** functions return the first match only. To get all the matches, we will have to use other functions like **findall ( )** or **finditer ( )**."
   ]
  },
  {
   "cell_type": "code",
   "execution_count": 148,
   "metadata": {
    "collapsed": true,
    "jupyter": {
     "outputs_hidden": true
    }
   },
   "outputs": [],
   "source": [
    "matches = re.findall(\"408-\\d\\d\\d-\\d\\d\\d\\d\",numbers)"
   ]
  },
  {
   "cell_type": "code",
   "execution_count": 149,
   "metadata": {
    "collapsed": true,
    "jupyter": {
     "outputs_hidden": true
    }
   },
   "outputs": [
    {
     "name": "stdout",
     "output_type": "stream",
     "text": [
      "['408-202-2222', '408-203-2222', '408-202-4444']\n"
     ]
    }
   ],
   "source": [
    "print ( matches )"
   ]
  },
  {
   "cell_type": "markdown",
   "metadata": {},
   "source": [
    "That's much better, right ? The **findall ( )** function returns all the matches it finds in the text. The other function **finditer ( )** just returns the same results in an iterable. "
   ]
  },
  {
   "cell_type": "code",
   "execution_count": 161,
   "metadata": {
    "collapsed": true,
    "jupyter": {
     "outputs_hidden": true
    }
   },
   "outputs": [
    {
     "name": "stdout",
     "output_type": "stream",
     "text": [
      "<re.Match object; span=(0, 12), match='408-202-2222'>\n",
      "<re.Match object; span=(26, 38), match='408-203-2222'>\n",
      "<re.Match object; span=(52, 64), match='408-202-4444'>\n"
     ]
    }
   ],
   "source": [
    "matches = re.finditer(\"408-\\d\\d\\d-\\d\\d\\d\\d\",numbers)\n",
    "\n",
    "for match in matches : \n",
    "    print ( match )"
   ]
  },
  {
   "cell_type": "markdown",
   "metadata": {},
   "source": [
    "If you wanted just the match, use the group () function to extract the matching text. "
   ]
  },
  {
   "cell_type": "code",
   "execution_count": 166,
   "metadata": {
    "collapsed": true,
    "jupyter": {
     "outputs_hidden": true
    }
   },
   "outputs": [
    {
     "name": "stdout",
     "output_type": "stream",
     "text": [
      "408-202-2222\n",
      "408-203-2222\n",
      "408-202-4444\n"
     ]
    }
   ],
   "source": [
    "matches = re.finditer(\"408-\\d\\d\\d-\\d\\d\\d\\d\",numbers)\n",
    "\n",
    "for match in matches : \n",
    "    print ( match.group() )"
   ]
  },
  {
   "cell_type": "markdown",
   "metadata": {},
   "source": [
    "Now, we can solve the problem we started out with. "
   ]
  },
  {
   "cell_type": "code",
   "execution_count": 93,
   "metadata": {
    "collapsed": true,
    "jupyter": {
     "outputs_hidden": true
    }
   },
   "outputs": [],
   "source": [
    "numbers = '''There are 3 phone numbers that you need to call in case of medical emergency. \n",
    "For casualty, call 408-202-2222. For elderly emergencies, call 408-203-2222 and\n",
    "for everything else call 408-202-4444\n",
    "'''"
   ]
  },
  {
   "cell_type": "code",
   "execution_count": 168,
   "metadata": {
    "collapsed": true,
    "jupyter": {
     "outputs_hidden": true
    }
   },
   "outputs": [
    {
     "name": "stdout",
     "output_type": "stream",
     "text": [
      "408-202-2222\n",
      "408-203-2222\n",
      "408-202-4444\n"
     ]
    }
   ],
   "source": [
    "matches = re.finditer(\"408-\\d\\d\\d-\\d\\d\\d\\d\",numbers)\n",
    "\n",
    "for match in matches : \n",
    "    print ( match.group() )"
   ]
  },
  {
   "cell_type": "markdown",
   "metadata": {},
   "source": [
    "In fact, even if the starting phone number is not always constant, like a 408 in this case, still we should be able to extract the matches. "
   ]
  },
  {
   "cell_type": "code",
   "execution_count": 170,
   "metadata": {
    "collapsed": true,
    "jupyter": {
     "outputs_hidden": true
    }
   },
   "outputs": [],
   "source": [
    "numbers = '''There are 3 phone numbers that you need to call in case of medical emergency. \n",
    "For casualty, call 408-202-2222. For elderly emergencies, call 408-203-2222 and\n",
    "for everything else call 800-202-4444\n",
    "'''"
   ]
  },
  {
   "cell_type": "code",
   "execution_count": 171,
   "metadata": {
    "collapsed": true,
    "jupyter": {
     "outputs_hidden": true
    }
   },
   "outputs": [
    {
     "name": "stdout",
     "output_type": "stream",
     "text": [
      "408-202-2222\n",
      "408-203-2222\n",
      "800-202-4444\n"
     ]
    }
   ],
   "source": [
    "matches = re.finditer(\"\\d\\d\\d-\\d\\d\\d-\\d\\d\\d\\d\",numbers)\n",
    "\n",
    "for match in matches : \n",
    "    print ( match.group() )"
   ]
  },
  {
   "cell_type": "markdown",
   "metadata": {},
   "source": [
    "See, all the numbers have been extracted."
   ]
  },
  {
   "cell_type": "markdown",
   "metadata": {},
   "source": [
    "**Points to Remember**\n",
    "- **\\d** represents a single digit\n",
    "- **match ( )** function returns the first match only, but only start at the beginning of the line. \n",
    "- **search ( )** function returns the first match only.\n",
    "- **findall ( )** and **finditer ( )** functions return all the matches.\n"
   ]
  },
  {
   "cell_type": "markdown",
   "metadata": {},
   "source": [
    "###  Extract phone numbers - v2"
   ]
  },
  {
   "cell_type": "markdown",
   "metadata": {},
   "source": [
    "**Problem** - Extract all the phone numbers from this text message. "
   ]
  },
  {
   "cell_type": "code",
   "execution_count": 181,
   "metadata": {
    "collapsed": true,
    "jupyter": {
     "outputs_hidden": true
    }
   },
   "outputs": [],
   "source": [
    "numbers = '''408-222-2222,\n",
    "             (408)-333-3333,\n",
    "             (800)-444-4444'''"
   ]
  },
  {
   "cell_type": "markdown",
   "metadata": {},
   "source": [
    "Let's try what we know so far. "
   ]
  },
  {
   "cell_type": "code",
   "execution_count": 196,
   "metadata": {
    "collapsed": true,
    "jupyter": {
     "outputs_hidden": true
    }
   },
   "outputs": [],
   "source": [
    "match = re.findall(\"\\d\\d\\d-\\d\\d\\d-\\d\\d\\d\\d\",numbers)"
   ]
  },
  {
   "cell_type": "code",
   "execution_count": 197,
   "metadata": {
    "collapsed": true,
    "jupyter": {
     "outputs_hidden": true
    }
   },
   "outputs": [
    {
     "name": "stdout",
     "output_type": "stream",
     "text": [
      "['408-222-2222']\n"
     ]
    }
   ],
   "source": [
    "print ( match )"
   ]
  },
  {
   "cell_type": "markdown",
   "metadata": {},
   "source": [
    "But this only matches the phone numbers without brackets. What about the ones with paranthesis ? We can try something like this."
   ]
  },
  {
   "cell_type": "code",
   "execution_count": 199,
   "metadata": {
    "collapsed": true,
    "jupyter": {
     "outputs_hidden": true
    }
   },
   "outputs": [
    {
     "name": "stdout",
     "output_type": "stream",
     "text": [
      "['408']\n"
     ]
    }
   ],
   "source": [
    "match = re.findall(\"(\\d\\d\\d)-\\d\\d\\d-\\d\\d\\d\\d\",numbers)\n",
    "print ( match )"
   ]
  },
  {
   "cell_type": "markdown",
   "metadata": {},
   "source": [
    "oops.. it is not working. Why ? Because, paranthesis represents a special character - It is used to make groups out of regular expressions (which, we will see later). To represent an actual paranthesis, escape it with a backslash. "
   ]
  },
  {
   "cell_type": "code",
   "execution_count": 200,
   "metadata": {
    "collapsed": true,
    "jupyter": {
     "outputs_hidden": true
    }
   },
   "outputs": [
    {
     "name": "stdout",
     "output_type": "stream",
     "text": [
      "['(408)-333-3333', '(800)-444-4444']\n"
     ]
    }
   ],
   "source": [
    "match = re.findall(\"\\(\\d\\d\\d\\)-\\d\\d\\d-\\d\\d\\d\\d\",numbers)\n",
    "print ( match )"
   ]
  },
  {
   "cell_type": "markdown",
   "metadata": {},
   "source": [
    "OK. Now, we got the phone numbers with paranthesis,  but we missed the ones without paranthesis. We want to capture either of these combinations. That's when we use the OR operator. In regular expressions, we use the pipe operator (|) to represent either/or type of patterns. "
   ]
  },
  {
   "cell_type": "code",
   "execution_count": 202,
   "metadata": {
    "collapsed": true,
    "jupyter": {
     "outputs_hidden": true
    }
   },
   "outputs": [
    {
     "name": "stdout",
     "output_type": "stream",
     "text": [
      "['408-222-2222', '(408)-333-3333', '(800)-444-4444']\n"
     ]
    }
   ],
   "source": [
    "match = re.findall(\"\\(\\d\\d\\d\\)-\\d\\d\\d-\\d\\d\\d\\d|\\d\\d\\d-\\d\\d\\d-\\d\\d\\d\\d\",numbers)\n",
    "print ( match )"
   ]
  },
  {
   "cell_type": "markdown",
   "metadata": {},
   "source": [
    "There we go - we were able to capture both the patterns. However, the **\\d** in the pattern repeats a lot making the string too long. Instead, we can use quantifiers to specify how long a particular sub-pattern can be. For example, the following pattern is exactly equivalent to the pattern above."
   ]
  },
  {
   "cell_type": "code",
   "execution_count": 203,
   "metadata": {
    "collapsed": true,
    "jupyter": {
     "outputs_hidden": true
    }
   },
   "outputs": [
    {
     "name": "stdout",
     "output_type": "stream",
     "text": [
      "['408-222-222', '(408)-333-3333', '(800)-444-4444']\n"
     ]
    }
   ],
   "source": [
    "match = re.findall(\"\\(\\d{3}\\)-\\d{3}-\\d{4}|\\d{3}-\\d{3}-\\d{3}\",numbers)\n",
    "print ( match )"
   ]
  },
  {
   "cell_type": "markdown",
   "metadata": {},
   "source": [
    "As you can see, quantifiers make the pattern much more compact in case there is a lot of repetition."
   ]
  },
  {
   "cell_type": "markdown",
   "metadata": {},
   "source": [
    "**Points to Remember**\n",
    "- If paranthesis **(**or **)** needs to be used in the pattern, escape them with a backslash ( **\\** ). This is done because, paranthesis is used to represent groups, which we will look into later.\n",
    "- **|**  or pipe character is used to represent a logical OR operator in regular expressions. \n",
    "- **{ }** Flower brackets are used to quantify the number of occurrances of a particular part of a regular expression. For example, **a{3}** is used to indicate that exactly 3 **a**'s should be looked for."
   ]
  },
  {
   "cell_type": "markdown",
   "metadata": {},
   "source": [
    "###  Extract phone numbers - v3"
   ]
  },
  {
   "cell_type": "markdown",
   "metadata": {},
   "source": [
    "**Problem** - Extract all the phone numbers from this text message. "
   ]
  },
  {
   "cell_type": "code",
   "execution_count": 204,
   "metadata": {
    "collapsed": true,
    "jupyter": {
     "outputs_hidden": true
    }
   },
   "outputs": [],
   "source": [
    "numbers = '''408-222-2222,\n",
    "             408.333.3333,\n",
    "             800 444 4444'''"
   ]
  },
  {
   "cell_type": "code",
   "execution_count": 206,
   "metadata": {
    "collapsed": true,
    "jupyter": {
     "outputs_hidden": true
    }
   },
   "outputs": [
    {
     "name": "stdout",
     "output_type": "stream",
     "text": [
      "['408-222-2222', '408.333.333', '800 444 444']\n"
     ]
    }
   ],
   "source": [
    "match = re.findall(\"\\d{3}-\\d{3}-\\d{4}|\\d{3}.\\d{3}.\\d{3}|\\d{3}\\d{3}\\d{3}\",numbers)\n",
    "print ( match )"
   ]
  },
  {
   "cell_type": "markdown",
   "metadata": {},
   "source": [
    "This works. But, can we make it any more concise ? There seems to be a lot of repetition. This is where character sets come in. In this case, the separator between the phone numbers is either a dash or a dot or a blank space. Can we somehow represent all of these characters to be searched for as separators, as opposed to specifying each pattern separately ?"
   ]
  },
  {
   "cell_type": "code",
   "execution_count": 207,
   "metadata": {
    "collapsed": true,
    "jupyter": {
     "outputs_hidden": true
    }
   },
   "outputs": [
    {
     "name": "stdout",
     "output_type": "stream",
     "text": [
      "['408-222-2222', '408.333.3333']\n"
     ]
    }
   ],
   "source": [
    "match = re.findall(\"\\d{3}[-.]\\d{3}[-.]\\d{4}\",numbers)\n",
    "print ( match )"
   ]
  },
  {
   "cell_type": "markdown",
   "metadata": {},
   "source": [
    "But what about phone numbers with spaces ? How do we represent a space in regular expressions ? We use the special character **\\s**."
   ]
  },
  {
   "cell_type": "code",
   "execution_count": 208,
   "metadata": {
    "collapsed": true,
    "jupyter": {
     "outputs_hidden": true
    }
   },
   "outputs": [
    {
     "name": "stdout",
     "output_type": "stream",
     "text": [
      "['408-222-2222', '408.333.3333', '800 444 4444']\n"
     ]
    }
   ],
   "source": [
    "match = re.findall(\"\\d{3}[-.\\s]\\d{3}[-.\\s]\\d{4}\",numbers)\n",
    "print ( match )"
   ]
  },
  {
   "cell_type": "markdown",
   "metadata": {},
   "source": [
    "There we go - we are able to capture all of the phone numbers. "
   ]
  },
  {
   "cell_type": "markdown",
   "metadata": {},
   "source": [
    "**Points to Remember**\n",
    "- Characters enclosed in **[]** (square brackets) are called character sets. Regular expressions search for any character inside the charater set for matches. \n",
    "- **\\s**  is used to represent a *space* or *blank* character."
   ]
  },
  {
   "cell_type": "markdown",
   "metadata": {},
   "source": [
    "###  Extract phone numbers - v4"
   ]
  },
  {
   "cell_type": "markdown",
   "metadata": {},
   "source": [
    "**Problem** - Extract all the phone numbers from this text. "
   ]
  },
  {
   "cell_type": "code",
   "execution_count": 265,
   "metadata": {
    "collapsed": true,
    "jupyter": {
     "outputs_hidden": true
    }
   },
   "outputs": [],
   "source": [
    "numbers = '''   408-222-2222,\n",
    "             1 408.333.3333,\n",
    "             1 408-444-4444,\n",
    "             1 (800) 444 4444'''"
   ]
  },
  {
   "cell_type": "code",
   "execution_count": 272,
   "metadata": {
    "collapsed": true,
    "jupyter": {
     "outputs_hidden": true
    }
   },
   "outputs": [
    {
     "name": "stdout",
     "output_type": "stream",
     "text": [
      "['408-222-2222', '408.333.3333', '408-444-4444']\n"
     ]
    }
   ],
   "source": [
    "match = re.findall(\"\\d{3}[-.\\s]\\d{3}[-.\\s]\\d{4}\",numbers)\n",
    "print ( match )"
   ]
  },
  {
   "cell_type": "markdown",
   "metadata": {},
   "source": [
    "But, how about the 1 before the numbers ? How do we capture them ? Some phone numbers have it and some don't. That's where the **?** quantifier comes in. If a pattern needs to be checked for occurance zero or 1 time, use the **?** quantifier. "
   ]
  },
  {
   "cell_type": "code",
   "execution_count": 275,
   "metadata": {
    "collapsed": true,
    "jupyter": {
     "outputs_hidden": true
    }
   },
   "outputs": [
    {
     "name": "stdout",
     "output_type": "stream",
     "text": [
      "[' 408-222-2222', '1 408.333.3333', '1 408-444-4444']\n"
     ]
    }
   ],
   "source": [
    "match = re.findall(\"1?\\s\\d{3}[-.\\s]\\d{3}[-.\\s]\\d{4}\",numbers)\n",
    "print ( match )"
   ]
  },
  {
   "cell_type": "markdown",
   "metadata": {},
   "source": [
    "Much better. Now, what about the 800 number with paranthesis ? How do we look for paranthesis ? We have seen previously that paranthesis is a special character and to extract that we need to escape it. Let's try that. "
   ]
  },
  {
   "cell_type": "code",
   "execution_count": 282,
   "metadata": {
    "collapsed": true,
    "jupyter": {
     "outputs_hidden": true
    }
   },
   "outputs": [
    {
     "name": "stdout",
     "output_type": "stream",
     "text": [
      "['1 (800) 444 444']\n"
     ]
    }
   ],
   "source": [
    "match = re.findall(\"1?\\s\\(?\\d{3}\\)?[\\s]\\d{3}[\\s]\\d{3}\",numbers)\n",
    "print ( match )"
   ]
  },
  {
   "cell_type": "markdown",
   "metadata": {},
   "source": [
    "Alright, we got that as well. Now, to combine all of these, we can use the OR operator. "
   ]
  },
  {
   "cell_type": "code",
   "execution_count": 283,
   "metadata": {
    "collapsed": true,
    "jupyter": {
     "outputs_hidden": true
    }
   },
   "outputs": [
    {
     "name": "stdout",
     "output_type": "stream",
     "text": [
      "[' 408-222-2222', '1 408.333.3333', '1 408-444-4444', '1 (800) 444 444']\n"
     ]
    }
   ],
   "source": [
    "match = re.findall(\"1?\\s\\(?\\d{3}\\)?[\\s]\\d{3}[\\s]\\d{3}|1?\\s\\d{3}[-.\\s]\\d{3}[-.\\s]\\d{4}\",numbers)\n",
    "print ( match )"
   ]
  },
  {
   "cell_type": "markdown",
   "metadata": {},
   "source": [
    "Or, we can combine them like this."
   ]
  },
  {
   "cell_type": "code",
   "execution_count": 284,
   "metadata": {
    "collapsed": true,
    "jupyter": {
     "outputs_hidden": true
    }
   },
   "outputs": [
    {
     "name": "stdout",
     "output_type": "stream",
     "text": [
      "[' 408-222-222', '1 408.333.333', '1 408-444-444', '1 (800) 444 444']\n"
     ]
    }
   ],
   "source": [
    "match = re.findall(\"1?\\s\\(?\\d{3}\\)?[-.\\s]\\d{3}[-.\\s]\\d{3}\",numbers)\n",
    "print ( match )"
   ]
  },
  {
   "cell_type": "markdown",
   "metadata": {},
   "source": [
    "**Learning**\n",
    "- **?** is used to represent a pattern that repeats zero or one time. It is a type of *quantifier* like **{n}**"
   ]
  },
  {
   "cell_type": "markdown",
   "metadata": {},
   "source": [
    "###  Extract phone numbers - v5"
   ]
  },
  {
   "cell_type": "markdown",
   "metadata": {},
   "source": [
    "**Problem** - Extract all the phone numbers from this text. "
   ]
  },
  {
   "cell_type": "code",
   "execution_count": 291,
   "metadata": {
    "collapsed": true,
    "jupyter": {
     "outputs_hidden": true
    }
   },
   "outputs": [],
   "source": [
    "numbers = '''+1  408-222-2222,    \n",
    "             +91 98989-99898,\n",
    "             +86 10-1234-5678,\n",
    "             +263 10-234-5678'''"
   ]
  },
  {
   "cell_type": "markdown",
   "metadata": {},
   "source": [
    "The first one is a US phone number, the second one is India and the third one is Chinese number. How to extract these. Let's start with the plus (**+**) at the beginning of the string. How to extract that ? "
   ]
  },
  {
   "cell_type": "code",
   "execution_count": 288,
   "metadata": {
    "collapsed": true,
    "jupyter": {
     "outputs_hidden": true
    }
   },
   "outputs": [
    {
     "ename": "error",
     "evalue": "nothing to repeat at position 0",
     "output_type": "error",
     "traceback": [
      "\u001b[1;31m---------------------------------------------------------------------------\u001b[0m",
      "\u001b[1;31merror\u001b[0m                                     Traceback (most recent call last)",
      "\u001b[1;32m<ipython-input-288-2fe5ce5c5168>\u001b[0m in \u001b[0;36m<module>\u001b[1;34m\u001b[0m\n\u001b[1;32m----> 1\u001b[1;33m \u001b[0mmatch\u001b[0m \u001b[1;33m=\u001b[0m \u001b[0mre\u001b[0m\u001b[1;33m.\u001b[0m\u001b[0mfindall\u001b[0m\u001b[1;33m(\u001b[0m\u001b[1;34m\"+\"\u001b[0m\u001b[1;33m,\u001b[0m\u001b[0mnumbers\u001b[0m\u001b[1;33m)\u001b[0m\u001b[1;33m\u001b[0m\u001b[1;33m\u001b[0m\u001b[0m\n\u001b[0m",
      "\u001b[1;32mc:\\program files\\python37\\lib\\re.py\u001b[0m in \u001b[0;36mfindall\u001b[1;34m(pattern, string, flags)\u001b[0m\n\u001b[0;32m    221\u001b[0m \u001b[1;33m\u001b[0m\u001b[0m\n\u001b[0;32m    222\u001b[0m     Empty matches are included in the result.\"\"\"\n\u001b[1;32m--> 223\u001b[1;33m     \u001b[1;32mreturn\u001b[0m \u001b[0m_compile\u001b[0m\u001b[1;33m(\u001b[0m\u001b[0mpattern\u001b[0m\u001b[1;33m,\u001b[0m \u001b[0mflags\u001b[0m\u001b[1;33m)\u001b[0m\u001b[1;33m.\u001b[0m\u001b[0mfindall\u001b[0m\u001b[1;33m(\u001b[0m\u001b[0mstring\u001b[0m\u001b[1;33m)\u001b[0m\u001b[1;33m\u001b[0m\u001b[1;33m\u001b[0m\u001b[0m\n\u001b[0m\u001b[0;32m    224\u001b[0m \u001b[1;33m\u001b[0m\u001b[0m\n\u001b[0;32m    225\u001b[0m \u001b[1;32mdef\u001b[0m \u001b[0mfinditer\u001b[0m\u001b[1;33m(\u001b[0m\u001b[0mpattern\u001b[0m\u001b[1;33m,\u001b[0m \u001b[0mstring\u001b[0m\u001b[1;33m,\u001b[0m \u001b[0mflags\u001b[0m\u001b[1;33m=\u001b[0m\u001b[1;36m0\u001b[0m\u001b[1;33m)\u001b[0m\u001b[1;33m:\u001b[0m\u001b[1;33m\u001b[0m\u001b[1;33m\u001b[0m\u001b[0m\n",
      "\u001b[1;32mc:\\program files\\python37\\lib\\re.py\u001b[0m in \u001b[0;36m_compile\u001b[1;34m(pattern, flags)\u001b[0m\n\u001b[0;32m    284\u001b[0m     \u001b[1;32mif\u001b[0m \u001b[1;32mnot\u001b[0m \u001b[0msre_compile\u001b[0m\u001b[1;33m.\u001b[0m\u001b[0misstring\u001b[0m\u001b[1;33m(\u001b[0m\u001b[0mpattern\u001b[0m\u001b[1;33m)\u001b[0m\u001b[1;33m:\u001b[0m\u001b[1;33m\u001b[0m\u001b[1;33m\u001b[0m\u001b[0m\n\u001b[0;32m    285\u001b[0m         \u001b[1;32mraise\u001b[0m \u001b[0mTypeError\u001b[0m\u001b[1;33m(\u001b[0m\u001b[1;34m\"first argument must be string or compiled pattern\"\u001b[0m\u001b[1;33m)\u001b[0m\u001b[1;33m\u001b[0m\u001b[1;33m\u001b[0m\u001b[0m\n\u001b[1;32m--> 286\u001b[1;33m     \u001b[0mp\u001b[0m \u001b[1;33m=\u001b[0m \u001b[0msre_compile\u001b[0m\u001b[1;33m.\u001b[0m\u001b[0mcompile\u001b[0m\u001b[1;33m(\u001b[0m\u001b[0mpattern\u001b[0m\u001b[1;33m,\u001b[0m \u001b[0mflags\u001b[0m\u001b[1;33m)\u001b[0m\u001b[1;33m\u001b[0m\u001b[1;33m\u001b[0m\u001b[0m\n\u001b[0m\u001b[0;32m    287\u001b[0m     \u001b[1;32mif\u001b[0m \u001b[1;32mnot\u001b[0m \u001b[1;33m(\u001b[0m\u001b[0mflags\u001b[0m \u001b[1;33m&\u001b[0m \u001b[0mDEBUG\u001b[0m\u001b[1;33m)\u001b[0m\u001b[1;33m:\u001b[0m\u001b[1;33m\u001b[0m\u001b[1;33m\u001b[0m\u001b[0m\n\u001b[0;32m    288\u001b[0m         \u001b[1;32mif\u001b[0m \u001b[0mlen\u001b[0m\u001b[1;33m(\u001b[0m\u001b[0m_cache\u001b[0m\u001b[1;33m)\u001b[0m \u001b[1;33m>=\u001b[0m \u001b[0m_MAXCACHE\u001b[0m\u001b[1;33m:\u001b[0m\u001b[1;33m\u001b[0m\u001b[1;33m\u001b[0m\u001b[0m\n",
      "\u001b[1;32mc:\\program files\\python37\\lib\\sre_compile.py\u001b[0m in \u001b[0;36mcompile\u001b[1;34m(p, flags)\u001b[0m\n\u001b[0;32m    762\u001b[0m     \u001b[1;32mif\u001b[0m \u001b[0misstring\u001b[0m\u001b[1;33m(\u001b[0m\u001b[0mp\u001b[0m\u001b[1;33m)\u001b[0m\u001b[1;33m:\u001b[0m\u001b[1;33m\u001b[0m\u001b[1;33m\u001b[0m\u001b[0m\n\u001b[0;32m    763\u001b[0m         \u001b[0mpattern\u001b[0m \u001b[1;33m=\u001b[0m \u001b[0mp\u001b[0m\u001b[1;33m\u001b[0m\u001b[1;33m\u001b[0m\u001b[0m\n\u001b[1;32m--> 764\u001b[1;33m         \u001b[0mp\u001b[0m \u001b[1;33m=\u001b[0m \u001b[0msre_parse\u001b[0m\u001b[1;33m.\u001b[0m\u001b[0mparse\u001b[0m\u001b[1;33m(\u001b[0m\u001b[0mp\u001b[0m\u001b[1;33m,\u001b[0m \u001b[0mflags\u001b[0m\u001b[1;33m)\u001b[0m\u001b[1;33m\u001b[0m\u001b[1;33m\u001b[0m\u001b[0m\n\u001b[0m\u001b[0;32m    765\u001b[0m     \u001b[1;32melse\u001b[0m\u001b[1;33m:\u001b[0m\u001b[1;33m\u001b[0m\u001b[1;33m\u001b[0m\u001b[0m\n\u001b[0;32m    766\u001b[0m         \u001b[0mpattern\u001b[0m \u001b[1;33m=\u001b[0m \u001b[1;32mNone\u001b[0m\u001b[1;33m\u001b[0m\u001b[1;33m\u001b[0m\u001b[0m\n",
      "\u001b[1;32mc:\\program files\\python37\\lib\\sre_parse.py\u001b[0m in \u001b[0;36mparse\u001b[1;34m(str, flags, pattern)\u001b[0m\n\u001b[0;32m    928\u001b[0m \u001b[1;33m\u001b[0m\u001b[0m\n\u001b[0;32m    929\u001b[0m     \u001b[1;32mtry\u001b[0m\u001b[1;33m:\u001b[0m\u001b[1;33m\u001b[0m\u001b[1;33m\u001b[0m\u001b[0m\n\u001b[1;32m--> 930\u001b[1;33m         \u001b[0mp\u001b[0m \u001b[1;33m=\u001b[0m \u001b[0m_parse_sub\u001b[0m\u001b[1;33m(\u001b[0m\u001b[0msource\u001b[0m\u001b[1;33m,\u001b[0m \u001b[0mpattern\u001b[0m\u001b[1;33m,\u001b[0m \u001b[0mflags\u001b[0m \u001b[1;33m&\u001b[0m \u001b[0mSRE_FLAG_VERBOSE\u001b[0m\u001b[1;33m,\u001b[0m \u001b[1;36m0\u001b[0m\u001b[1;33m)\u001b[0m\u001b[1;33m\u001b[0m\u001b[1;33m\u001b[0m\u001b[0m\n\u001b[0m\u001b[0;32m    931\u001b[0m     \u001b[1;32mexcept\u001b[0m \u001b[0mVerbose\u001b[0m\u001b[1;33m:\u001b[0m\u001b[1;33m\u001b[0m\u001b[1;33m\u001b[0m\u001b[0m\n\u001b[0;32m    932\u001b[0m         \u001b[1;31m# the VERBOSE flag was switched on inside the pattern.  to be\u001b[0m\u001b[1;33m\u001b[0m\u001b[1;33m\u001b[0m\u001b[1;33m\u001b[0m\u001b[0m\n",
      "\u001b[1;32mc:\\program files\\python37\\lib\\sre_parse.py\u001b[0m in \u001b[0;36m_parse_sub\u001b[1;34m(source, state, verbose, nested)\u001b[0m\n\u001b[0;32m    424\u001b[0m     \u001b[1;32mwhile\u001b[0m \u001b[1;32mTrue\u001b[0m\u001b[1;33m:\u001b[0m\u001b[1;33m\u001b[0m\u001b[1;33m\u001b[0m\u001b[0m\n\u001b[0;32m    425\u001b[0m         itemsappend(_parse(source, state, verbose, nested + 1,\n\u001b[1;32m--> 426\u001b[1;33m                            not nested and not items))\n\u001b[0m\u001b[0;32m    427\u001b[0m         \u001b[1;32mif\u001b[0m \u001b[1;32mnot\u001b[0m \u001b[0msourcematch\u001b[0m\u001b[1;33m(\u001b[0m\u001b[1;34m\"|\"\u001b[0m\u001b[1;33m)\u001b[0m\u001b[1;33m:\u001b[0m\u001b[1;33m\u001b[0m\u001b[1;33m\u001b[0m\u001b[0m\n\u001b[0;32m    428\u001b[0m             \u001b[1;32mbreak\u001b[0m\u001b[1;33m\u001b[0m\u001b[1;33m\u001b[0m\u001b[0m\n",
      "\u001b[1;32mc:\\program files\\python37\\lib\\sre_parse.py\u001b[0m in \u001b[0;36m_parse\u001b[1;34m(source, state, verbose, nested, first)\u001b[0m\n\u001b[0;32m    649\u001b[0m             \u001b[1;32mif\u001b[0m \u001b[1;32mnot\u001b[0m \u001b[0mitem\u001b[0m \u001b[1;32mor\u001b[0m \u001b[0mitem\u001b[0m\u001b[1;33m[\u001b[0m\u001b[1;36m0\u001b[0m\u001b[1;33m]\u001b[0m\u001b[1;33m[\u001b[0m\u001b[1;36m0\u001b[0m\u001b[1;33m]\u001b[0m \u001b[1;32mis\u001b[0m \u001b[0mAT\u001b[0m\u001b[1;33m:\u001b[0m\u001b[1;33m\u001b[0m\u001b[1;33m\u001b[0m\u001b[0m\n\u001b[0;32m    650\u001b[0m                 raise source.error(\"nothing to repeat\",\n\u001b[1;32m--> 651\u001b[1;33m                                    source.tell() - here + len(this))\n\u001b[0m\u001b[0;32m    652\u001b[0m             \u001b[1;32mif\u001b[0m \u001b[0mitem\u001b[0m\u001b[1;33m[\u001b[0m\u001b[1;36m0\u001b[0m\u001b[1;33m]\u001b[0m\u001b[1;33m[\u001b[0m\u001b[1;36m0\u001b[0m\u001b[1;33m]\u001b[0m \u001b[1;32min\u001b[0m \u001b[0m_REPEATCODES\u001b[0m\u001b[1;33m:\u001b[0m\u001b[1;33m\u001b[0m\u001b[1;33m\u001b[0m\u001b[0m\n\u001b[0;32m    653\u001b[0m                 raise source.error(\"multiple repeat\",\n",
      "\u001b[1;31merror\u001b[0m: nothing to repeat at position 0"
     ]
    }
   ],
   "source": [
    "match = re.findall(\"+\",numbers)"
   ]
  },
  {
   "cell_type": "markdown",
   "metadata": {},
   "source": [
    "oops.. doesn't work. That is because, **+** is a special character. It is used to represent a quantifer. **+** means that a patter repeats one or more time. So, to find **+** as a pattern, you would have to escape it. "
   ]
  },
  {
   "cell_type": "code",
   "execution_count": 292,
   "metadata": {
    "collapsed": true,
    "jupyter": {
     "outputs_hidden": true
    }
   },
   "outputs": [
    {
     "name": "stdout",
     "output_type": "stream",
     "text": [
      "['+', '+', '+', '+']\n"
     ]
    }
   ],
   "source": [
    "match = re.findall(\"\\+\", numbers)\n",
    "print ( match )"
   ]
  },
  {
   "cell_type": "markdown",
   "metadata": {},
   "source": [
    "OK, Now, we are able to get the **+** in the string. Let's extract the country code next. It is the set of numbers right next to the **+** symbol. It could be 1 (like US ) or 2 (like India, China ), or may be 3 (Zimbabwe is +263 ). We can use the flower brackets to specify a pattern length of 1 to 3 like so -\n",
    "\n",
    "**{1,3}**"
   ]
  },
  {
   "cell_type": "code",
   "execution_count": 293,
   "metadata": {
    "collapsed": true,
    "jupyter": {
     "outputs_hidden": true
    }
   },
   "outputs": [
    {
     "name": "stdout",
     "output_type": "stream",
     "text": [
      "['+1', '+91', '+86', '+263']\n"
     ]
    }
   ],
   "source": [
    "match = re.findall(\"\\+\\d{1,3}\", numbers)\n",
    "print ( match )"
   ]
  },
  {
   "cell_type": "markdown",
   "metadata": {},
   "source": [
    "Next, we have a set of numbers separated by dashes. However, the count of numbers between the dashes is arbitrary. So, we need some kind of a quantifier again to find out repetitive pattern of count between 1 and n. We could just assume a higher nuber say 5 for n and proceed like so. "
   ]
  },
  {
   "cell_type": "code",
   "execution_count": 297,
   "metadata": {
    "collapsed": true,
    "jupyter": {
     "outputs_hidden": true
    }
   },
   "outputs": [
    {
     "name": "stdout",
     "output_type": "stream",
     "text": [
      "['+1  408-222-2222', '+86 10-1234-5678', '+263 10-234-5678']\n"
     ]
    }
   ],
   "source": [
    "match = re.findall(\"\\+\\d{1,3}\\s{1,3}\\d{1,6}-\\d{1,6}-\\d{1,6}\", numbers)\n",
    "print ( match )"
   ]
  },
  {
   "cell_type": "markdown",
   "metadata": {},
   "source": [
    "Instead of using the **{m,n}** quantifier to identify digits that repeat atleast once, you can use the quantifier **+**."
   ]
  },
  {
   "cell_type": "code",
   "execution_count": 302,
   "metadata": {
    "collapsed": true,
    "jupyter": {
     "outputs_hidden": true
    }
   },
   "outputs": [
    {
     "name": "stdout",
     "output_type": "stream",
     "text": [
      "['+1  408-222-2222', '+86 10-1234-5678', '+263 10-234-5678']\n"
     ]
    }
   ],
   "source": [
    "match = re.findall(\"\\+\\d+\\s+\\d+-\\d+-\\d+\", numbers)\n",
    "print ( match )"
   ]
  },
  {
   "cell_type": "markdown",
   "metadata": {},
   "source": [
    "We are still missing another number , +91 98989-99898. This is because, the number is divided into 2 parts (and not 3 parts separated by dashes). So, a simple solution would be to create another pattern and do an OR operation. That should capture all of the possible phone numbers in this case. "
   ]
  },
  {
   "cell_type": "code",
   "execution_count": 307,
   "metadata": {
    "collapsed": true,
    "jupyter": {
     "outputs_hidden": true
    }
   },
   "outputs": [
    {
     "name": "stdout",
     "output_type": "stream",
     "text": [
      "['+1  408-222-2222', '+91 98989-99898', '+86 10-1234-5678', '+263 10-234-5678']\n"
     ]
    }
   ],
   "source": [
    "match = re.findall(\"\\+\\d+\\s+\\d+-\\d+-\\d+|\\+\\d+\\s+\\d+-\\d+\", numbers)\n",
    "print ( match )"
   ]
  },
  {
   "cell_type": "markdown",
   "metadata": {},
   "source": [
    "**Learning**\n",
    "- **{m,n}** is used to represent a pattern that repeats **m** to **n** number of times. It is a type of *quantifier*.\n",
    "- Since **+** is a special character (used to identify patterns that repeat 1 or more times), to identify **+** itself, escape it with a backslash (**\\**)"
   ]
  },
  {
   "cell_type": "markdown",
   "metadata": {},
   "source": [
    "###  Extract emails"
   ]
  },
  {
   "cell_type": "markdown",
   "metadata": {},
   "source": [
    "**Problem** - Extract all the emails from this text. "
   ]
  },
  {
   "cell_type": "code",
   "execution_count": 330,
   "metadata": {
    "collapsed": true,
    "jupyter": {
     "outputs_hidden": true
    }
   },
   "outputs": [],
   "source": [
    "text = '''   accounts@boa.com,    \n",
    "             sales@boa.com,\n",
    "             cancellations@tesla.com,\n",
    "             accounts@delloitte.com,\n",
    "             cancellations@farmers.com,\n",
    "             accounts@dell@com'''"
   ]
  },
  {
   "cell_type": "markdown",
   "metadata": {},
   "source": [
    "To solve text based patterns, one of the fundamental character set is **\\w**. It represents any character that can be found in a word - it could be alphabetic or numeric or underscore. These are the only 3 types of characters that **\\w** can find. For example, a single **\\w** on this text, basically captures all the word characters (a to z characters, 0-9 digits and underscore ). You can see that in the output below. "
   ]
  },
  {
   "cell_type": "code",
   "execution_count": 326,
   "metadata": {
    "collapsed": true,
    "jupyter": {
     "outputs_hidden": true
    }
   },
   "outputs": [
    {
     "name": "stdout",
     "output_type": "stream",
     "text": [
      "['a', 'c', 'c', 'o', 'u', 'n', 't', 's', 'b', 'o', 'a', 'c', 'o', 'm', 's', 'a', 'l', 'e', 's', 'b', 'o', 'a', 'c', 'o', 'm', 'c', 'a', 'n', 'c', 'e', 'l', 'l', 'a', 't', 'i', 'o', 'n', 's', 't', 'e', 's', 'l', 'a', 'c', 'o', 'm', 'a', 'c', 'c', 'o', 'u', 'n', 't', 's', 'd', 'e', 'l', 'l', 'o', 'i', 't', 't', 'e', 'c', 'o', 'm', 'a', 'c', 'c', 'o', 'u', 'n', 't', 's', '_', '1', 'd', 'e', 'l', 'l', 'o', 'i', 't', 't', 'e', 'c', 'o', 'm', 'a', 'c', 'c', 'o', 'u', 'n', 't', 's', '_', '2', 'd', 'e', 'l', 'l', 'o', 'i', 't', 't', 'e', 'c', 'o', 'm']\n"
     ]
    }
   ],
   "source": [
    "matches = re.findall(\"\\w\",text)\n",
    "print ( matches )"
   ]
  },
  {
   "cell_type": "markdown",
   "metadata": {},
   "source": [
    "We need to step up from letters, to identify words. A word is just a repetition of a set of letters, numbers and underscores. So, we use a quantifier **+** to identify a word. "
   ]
  },
  {
   "cell_type": "code",
   "execution_count": 327,
   "metadata": {
    "collapsed": true,
    "jupyter": {
     "outputs_hidden": true
    }
   },
   "outputs": [
    {
     "name": "stdout",
     "output_type": "stream",
     "text": [
      "['accounts', 'boa', 'com', 'sales', 'boa', 'com', 'cancellations', 'tesla', 'com', 'accounts', 'delloitte', 'com', 'accounts_1', 'delloitte', 'com', 'accounts_2', 'delloitte', 'com']\n"
     ]
    }
   ],
   "source": [
    "matches = re.findall(\"\\w+\",text)\n",
    "print ( matches )"
   ]
  },
  {
   "cell_type": "markdown",
   "metadata": {},
   "source": [
    "Now that we have all the words, all we have to do is to put together the pattern that includes the **@** symbol and **dot**. "
   ]
  },
  {
   "cell_type": "code",
   "execution_count": 331,
   "metadata": {
    "collapsed": true,
    "jupyter": {
     "outputs_hidden": true
    }
   },
   "outputs": [
    {
     "name": "stdout",
     "output_type": "stream",
     "text": [
      "['accounts@boa.com', 'sales@boa.com', 'cancellations@tesla.com', 'accounts@delloitte.com', 'cancellations@farmers.com', 'accounts@dell@com']\n"
     ]
    }
   ],
   "source": [
    "matches = re.findall(\"\\w+@\\w+.\\w+\",text)\n",
    "print ( matches )"
   ]
  },
  {
   "cell_type": "markdown",
   "metadata": {},
   "source": [
    "We are almost there, except the last email - **accounts@dell@com**. This is not a valid email. So, why is our pattern capturing it ? When we mentioned dot (**.**) in our pattern (**\\w+@\\w+.\\w+**), it basically captures *any* character. So, in order to capture a dot, all we have to do is to escape it - prepend it with a backslash (**\\**)"
   ]
  },
  {
   "cell_type": "code",
   "execution_count": 332,
   "metadata": {
    "collapsed": true,
    "jupyter": {
     "outputs_hidden": true
    }
   },
   "outputs": [
    {
     "name": "stdout",
     "output_type": "stream",
     "text": [
      "['accounts@boa.com', 'sales@boa.com', 'cancellations@tesla.com', 'accounts@delloitte.com', 'cancellations@farmers.com']\n"
     ]
    }
   ],
   "source": [
    "matches = re.findall(\"\\w+@\\w+\\.\\w+\",text)\n",
    "print ( matches )"
   ]
  },
  {
   "cell_type": "markdown",
   "metadata": {},
   "source": [
    "There you go, we have succesfully found out all the emails in the text. "
   ]
  },
  {
   "cell_type": "markdown",
   "metadata": {},
   "source": [
    "**Learning**\n",
    "- **\\w** is used to represent a character in a word - it could be an alphabet (a-z) or a number ( 0-9) or an underscore. \n",
    "- **\\w+** - to identify words, all you have to do is append **\\w** with a plus (**+**). \n",
    "- **.** (dot) is used to identify ANY character. It is a special character. To actually identify a **.** (dot) itself, just escape it with a backslash (**\\**)."
   ]
  },
  {
   "cell_type": "markdown",
   "metadata": {},
   "source": [
    "### Extract zip codes"
   ]
  },
  {
   "cell_type": "markdown",
   "metadata": {},
   "source": [
    "**Problem** : Say we have a text with US zip codes. The valid format for US zip codes are\n",
    "\n",
    "- 99999\n",
    "- 99999-9999\n",
    "\n",
    "where 9 represents any digit. Write a regular expression to extract all zip codes from the text."
   ]
  },
  {
   "cell_type": "code",
   "execution_count": 355,
   "metadata": {
    "collapsed": true,
    "jupyter": {
     "outputs_hidden": true
    }
   },
   "outputs": [],
   "source": [
    "text = '''08820, 08820-1245, zip code, 98487, 98487-0000, ABCD  '''"
   ]
  },
  {
   "cell_type": "code",
   "execution_count": 356,
   "metadata": {
    "collapsed": true,
    "jupyter": {
     "outputs_hidden": true
    }
   },
   "outputs": [
    {
     "name": "stdout",
     "output_type": "stream",
     "text": [
      "['08820', '08820-1245', '98487', '98487-0000']\n"
     ]
    }
   ],
   "source": [
    "matches = re.findall ( \"\\d{5}-\\d{4}|\\d{5}\", text)\n",
    "print ( matches )"
   ]
  },
  {
   "cell_type": "markdown",
   "metadata": {},
   "source": [
    "**Exercise** : Say we have a text with Canadian zip codes. The format for canadian zip codes is\n",
    "\n",
    "- A1A A1A  \n",
    "\n",
    "where A represents an alphabet and 1 represents any digit. There is a space at the 4th character. "
   ]
  },
  {
   "cell_type": "code",
   "execution_count": 372,
   "metadata": {
    "collapsed": true,
    "jupyter": {
     "outputs_hidden": true
    }
   },
   "outputs": [],
   "source": [
    "text = '''M1R 0E9\n",
    "          M3C 0C1\n",
    "          M3C 0C2\n",
    "          M3C 0C3\n",
    "          M3C 0E3\n",
    "          M3C 0E4\n",
    "          M3C 0H9\n",
    "          M3C 0J1\n",
    "          1M1 A1A\n",
    "          11M 1A1\n",
    "          M11 A1A\n",
    "          M3C0J1\n",
    "          M3C JJ1'''\n",
    "\n",
    "# Test - The last five elements should NOT match"
   ]
  },
  {
   "cell_type": "markdown",
   "metadata": {},
   "source": [
    "**Solution**"
   ]
  },
  {
   "cell_type": "code",
   "execution_count": 371,
   "metadata": {},
   "outputs": [
    {
     "name": "stdout",
     "output_type": "stream",
     "text": [
      "['M1R 0E9', 'M3C 0C1', 'M3C 0C2', 'M3C 0C3', 'M3C 0E3', 'M3C 0E4', 'M3C 0H9', 'M3C 0J1']\n"
     ]
    }
   ],
   "source": [
    "matches = re.findall (\"[A-Z]\\d[A-Z] \\d[A-Z]\\d\", text)\n",
    "print ( matches )"
   ]
  },
  {
   "cell_type": "markdown",
   "metadata": {},
   "source": [
    "### - Log file analysis"
   ]
  },
  {
   "cell_type": "markdown",
   "metadata": {},
   "source": [
    "**Problem** - Say there is a web server log file, find out how many times the login file was succesfully hit and how many times it failed. For now, we will work with a sample snippet from the file. We will work with the real file in the next challenge."
   ]
  },
  {
   "cell_type": "code",
   "execution_count": 429,
   "metadata": {},
   "outputs": [],
   "source": [
    "log = '''\n",
    "10.128.2.1 [29/Nov/2017:06:58:55 GET /login.php HTTP/1.1 Status Code  - 302\n",
    "10.128.2.1 [29/Nov/2017:06:59:02 POST /process.php HTTP/1.1 Status Code  - 302\n",
    "10.128.2.1 [29/Nov/2017:06:59:03 GET /home.php HTTP/1.1 Status Code  - 200\n",
    "10.131.2.1 [29/Nov/2017:06:59:04 GET /js/vendor/moment.min.js HTTP/1.1 Status Code  - 200\n",
    "10.130.2.1 [29/Nov/2017:06:59:06 GET /bootstrap-3.3.7/js/bootstrap.js HTTP/1.1 Status Code  - 200\n",
    "10.130.2.1 [29/Nov/2017:06:59:19 GET /profile.php?user=bala HTTP/1.1 Status Code  - 200\n",
    "10.128.2.1 [29/Nov/2017:06:59:19 GET /js/jquery.min.js HTTP/1.1 Status Code  - 200\n",
    "10.131.2.1 [29/Nov/2017:06:59:19 GET /js/chart.min.js HTTP/1.1 Status Code  - 200\n",
    "10.131.2.1 [29/Nov/2017:06:59:30 GET /edit.php?name=bala HTTP/1.1 Status Code  - 200\n",
    "10.131.2.1 [29/Nov/2017:06:59:37 GET /logout.php HTTP/1.1 Status Code  - 302\n",
    "10.131.2.1 [29/Nov/2017:06:59:37 GET /login.php HTTP/1.1 Status Code  - 200\n",
    "10.130.2.1 [29/Nov/2017:07:00:19 GET /login.php HTTP/1.1 Status Code  - 200\n",
    "10.130.2.1 [29/Nov/2017:07:00:21 GET /login.php HTTP/1.1 Status Code  - 200\n",
    "10.130.2.1 [29/Nov/2017:13:31:27 GET / HTTP/1.1 Status Code  - 302\n",
    "10.130.2.1 [29/Nov/2017:13:31:28 GET /login.php HTTP/1.1 Status Code  - 200\n",
    "10.129.2.1 [29/Nov/2017:13:38:03 POST /process.php HTTP/1.1 Status Code  - 302\n",
    "10.131.0.1 [29/Nov/2017:13:38:04 GET /home.php HTTP/1.1 Status Code  - 200'''"
   ]
  },
  {
   "cell_type": "markdown",
   "metadata": {},
   "source": [
    "**solution**"
   ]
  },
  {
   "cell_type": "code",
   "execution_count": 430,
   "metadata": {},
   "outputs": [
    {
     "name": "stdout",
     "output_type": "stream",
     "text": [
      "[('10.128.2.1', 'login.php', 'HTTP', '302'), ('10.131.2.1', 'login.php', 'HTTP', '200'), ('10.130.2.1', 'login.php', 'HTTP', '200'), ('10.130.2.1', 'login.php', 'HTTP', '200'), ('10.130.2.1', 'login.php', 'HTTP', '200')]\n"
     ]
    }
   ],
   "source": [
    "pattern = \"(\\d+\\.\\d+\\.\\d+\\.\\d+).*(login.php)\\s(HTTP).*-\\s(\\d{3})\"\n",
    "\n",
    "matches = re.findall (pattern, log)\n",
    "print (matches)    "
   ]
  },
  {
   "cell_type": "code",
   "execution_count": 431,
   "metadata": {},
   "outputs": [
    {
     "name": "stdout",
     "output_type": "stream",
     "text": [
      " login was succesfully hit  80.0 % of time\n"
     ]
    }
   ],
   "source": [
    "count_200     = 0\n",
    "count_not_200 = 0\n",
    "\n",
    "for match in matches : \n",
    "    if match[3] == \"200\" :\n",
    "        count_200 += 1\n",
    "    else : \n",
    "        count_not_200 += 1\n",
    "        \n",
    "success_perc = ( count_200 / (count_200 + count_not_200) ) * 100\n",
    "print ( \" login was succesfully hit \", success_perc , \"% of time\")"
   ]
  },
  {
   "cell_type": "markdown",
   "metadata": {},
   "source": [
    "**Learning** \n",
    "- **(...)** is used to represent groups in a regular expression\n",
    "- There can be multiple groups in a single regular expression\n",
    "- Each of the groups can be extracted out per each match of the regular expression \n",
    "- **.** (dot) represents ANY character"
   ]
  },
  {
   "cell_type": "markdown",
   "metadata": {},
   "source": [
    "**Challenge** - Say there is a web server log file, find out how many times the login file was succesfully hit and how many times it failed. The file is available in the data directory. If the HTTP code ( at the end of each line in the log file ) is 200 the page is succesfully rendered. Otherwise, it is a failure. "
   ]
  },
  {
   "cell_type": "markdown",
   "metadata": {},
   "source": [
    "**Solution**"
   ]
  },
  {
   "cell_type": "code",
   "execution_count": 443,
   "metadata": {},
   "outputs": [
    {
     "name": "stdout",
     "output_type": "stream",
     "text": [
      "10.128.2.1 [29/Nov/2017:06:58:55 GET /login.php HTTP/1.1 Status Code  - 200\n",
      "10.128.2.1 [29/Nov/2017:06:59:02 POST /process.php HTTP/1.1 Status Code  - 302\n",
      "10.128.2.1 [29/Nov/2017:06:59:03 GET /home.php HTTP/1.1 Status Code  - 200\n",
      "10.131.2.1 [29/Nov/2017:06:59:04 GET /js/vendor/moment.min.js HTTP/1.1 Status Code  - 200\n",
      "10.130.2.1 [29/Nov/2017:06:59:06 GET /bootstrap-3.3.7/js/bootstrap.js HTTP/1.1 Status Code  - 200\n"
     ]
    }
   ],
   "source": [
    "# read file\n",
    "\n",
    "data = [] # will contain the log data as a list\n",
    "with open ( \"./data/log_file.txt\", \"r\") as f : \n",
    "    for line in f : \n",
    "        data.append(line)\n",
    "        \n",
    "# print the read data\n",
    "for line in data [0:5]: \n",
    "    print ( line, end=\"\")"
   ]
  },
  {
   "cell_type": "code",
   "execution_count": 442,
   "metadata": {},
   "outputs": [
    {
     "name": "stdout",
     "output_type": "stream",
     "text": [
      "['10.128.2.1', 'login.php', 'HTTP', '200']\n",
      "['10.131.2.1', 'login.php', 'HTTP', '200']\n",
      "['10.130.2.1', 'login.php', 'HTTP', '200']\n",
      "['10.130.2.1', 'login.php', 'HTTP', '200']\n",
      "['10.130.2.1', 'login.php', 'HTTP', '200']\n"
     ]
    }
   ],
   "source": [
    "# parse the data using regular expression and find matches for login.php\n",
    "import re\n",
    "\n",
    "login_data = []\n",
    "\n",
    "pattern = \"(\\d+\\.\\d+\\.\\d+\\.\\d+).*(login.php)\\s(HTTP).*-\\s(\\d{3})\"\n",
    "for line in data : \n",
    "    matches = re.findall (pattern, line)\n",
    "    if len(matches) > 0 : \n",
    "        login = []\n",
    "        login.append(matches[0][0])\n",
    "        login.append(matches[0][1])\n",
    "        login.append(matches[0][2])\n",
    "        login.append(matches[0][3])        \n",
    "        \n",
    "        login_data.append(login)\n",
    "        \n",
    "# print a sample \n",
    "for line in login_data[0:5]:\n",
    "    print ( line)"
   ]
  },
  {
   "cell_type": "code",
   "execution_count": 438,
   "metadata": {},
   "outputs": [
    {
     "name": "stdout",
     "output_type": "stream",
     "text": [
      "Login page was succesfully hit  99.75742874469375 % of the time\n"
     ]
    }
   ],
   "source": [
    "# calculate the success ratio\n",
    "count_200 = 0       # succesful\n",
    "count_not_200 = 0   # unsuccesful\n",
    "\n",
    "for element in login_data : \n",
    "    if element[3] == \"200\": \n",
    "        count_200 += 1\n",
    "    else : \n",
    "        count_not_200 += 1\n",
    "\n",
    "percentage_success = ( count_200 / (count_200 + count_not_200) ) * 100\n",
    "print ( \"Login page was succesfully hit \", percentage_success, \"% of the time\")\n",
    "    "
   ]
  },
  {
   "cell_type": "code",
   "execution_count": 454,
   "metadata": {},
   "outputs": [],
   "source": [
    "text = '''Data science is an inter-disciplinary field  that uses scientific methods, processes, algorithms and systems to extract knowledge and insights from structured and unstructured data. Data science is related to data mining and big data.\n",
    "\n",
    "Data science is a \"concept to unify statistics, data analysis, machine learning and their related methods\" in order to \"understand and analyze actual phenomena\" with data. It employs techniques and theories drawn from many fields within the context of mathematics, statistics, computer science, and information science. Turing award winner Jim Gray imagined data science as a \"fourth paradigm\" of science (empirical, theoretical, computational and now data-driven) and asserted that \"everything about science is changing because of the impact of information technology\" and the data deluge. In 2015, the American Statistical Association identified database management, statistics and machine learning, and distributed and parallel systems as the three emerging foundational professional communities.'''"
   ]
  },
  {
   "cell_type": "code",
   "execution_count": 460,
   "metadata": {},
   "outputs": [
    {
     "name": "stdout",
     "output_type": "stream",
     "text": [
      "['nary field  that uses ', ' big data.\\n\\nData scien']\n"
     ]
    }
   ],
   "source": [
    "pattern = re.findall(\".{10}\\\\s{2,}.{10}\",text)\n",
    "print ( pattern )"
   ]
  },
  {
   "cell_type": "markdown",
   "metadata": {},
   "source": [
    "**Quiz** - The pattern above can be used to find out\n",
    "- words that have 2 or more spaces in between them\n",
    "- sentences that have 2 or more space in between them"
   ]
  },
  {
   "cell_type": "markdown",
   "metadata": {},
   "source": [
    "### URL Extractor"
   ]
  },
  {
   "cell_type": "markdown",
   "metadata": {},
   "source": [
    "**Problem** - Extract all the URLs from a text file. Typical use cases include"
   ]
  },
  {
   "cell_type": "code",
   "execution_count": 49,
   "metadata": {},
   "outputs": [],
   "source": [
    "text = '''Google Search, also referred to as Google Web Search or simply Google, \n",
    "          is a web search engine developed by Google. Google is served at https://www.google.com.\n",
    "          It is the most used search engine on the World Wide Web across all platforms, \n",
    "          with 92.62% market share as of June 2019, handling more than 5.4 billion searches\n",
    "          each day.\n",
    "        '''"
   ]
  },
  {
   "cell_type": "code",
   "execution_count": 50,
   "metadata": {},
   "outputs": [
    {
     "name": "stdout",
     "output_type": "stream",
     "text": [
      "[]\n"
     ]
    }
   ],
   "source": [
    "matches = re.findall(\"/(http|https|ftp|ftps)\\:\\/\\/[a-zA-Z0-9\\-\\.]+\\.[a-zA-Z]{2,3}(\\/\\S*)?/\",\n",
    "                     text)\n",
    "print ( matches )"
   ]
  },
  {
   "cell_type": "markdown",
   "metadata": {},
   "source": [
    "### Challenge - Extract City and nickname"
   ]
  },
  {
   "cell_type": "markdown",
   "metadata": {},
   "source": [
    "Say, we gave a bunch of cities along with their nick names in the following format in a text file. Extract the city and it nick name in a JSON format with the structure as follows. "
   ]
  },
  {
   "cell_type": "code",
   "execution_count": 1,
   "metadata": {},
   "outputs": [],
   "source": [
    "cities = '''\n",
    "1. Paris – The City of Love, The City of Light, La Ville-Lumiere\n",
    "\n",
    "2. Prague – The City of Hundred Spires, The Golden City, The Mother of Cities\n",
    "\n",
    "3. New York – The Big Apple\n",
    "\n",
    "4. Las Vegas – Sin City'''"
   ]
  },
  {
   "cell_type": "code",
   "execution_count": 22,
   "metadata": {},
   "outputs": [
    {
     "data": {
      "text/plain": [
       "{'city_1': ['nick name 1', 'nick name 2'],\n",
       " 'city_2': ['nick name 1', 'nick name 2..']}"
      ]
     },
     "execution_count": 22,
     "metadata": {},
     "output_type": "execute_result"
    }
   ],
   "source": [
    "# required output format\n",
    "{\n",
    "    \"city_1\" : [\"nick name 1\", \"nick name 2\"], \n",
    "    \"city_2\" : [\"nick name 1\", \"nick name 2..\"]\n",
    "}"
   ]
  },
  {
   "cell_type": "markdown",
   "metadata": {},
   "source": [
    "**Solution**"
   ]
  },
  {
   "cell_type": "code",
   "execution_count": 32,
   "metadata": {},
   "outputs": [],
   "source": [
    "#import the file\n",
    "\n",
    "with open(\"./data/cities.txt\",\"r\") as f : \n",
    "    data = f.read()"
   ]
  },
  {
   "cell_type": "code",
   "execution_count": 34,
   "metadata": {},
   "outputs": [
    {
     "name": "stdout",
     "output_type": "stream",
     "text": [
      "[('Paris', 'The City of Love, The City of Light, La Ville-Lumiere'), ('Prague', 'The City of Hundred Spires, The Golden City, The Mother of Cities'), ('New York', 'The Big Apple'), ('Las Vegas', 'Sin City'), ('Chicago', 'The Windy City')]\n"
     ]
    }
   ],
   "source": [
    "import re \n",
    "\n",
    "matches = re.findall(\"\\d+\\.\\s+(\\w+\\s?\\w+)\\s+–\\s+(.*)\", data)\n",
    "print ( matches[0:5])"
   ]
  },
  {
   "cell_type": "code",
   "execution_count": 35,
   "metadata": {},
   "outputs": [],
   "source": [
    "import json\n",
    "\n",
    "city_dict = {}\n",
    "\n",
    "for city in matches : \n",
    "    city_dict[city[0]] = city[1].split(\",\")\n",
    "    \n",
    "city_json = json.dumps(city_dict)"
   ]
  },
  {
   "cell_type": "markdown",
   "metadata": {},
   "source": [
    "### HTML tags lookup"
   ]
  },
  {
   "cell_type": "code",
   "execution_count": 63,
   "metadata": {},
   "outputs": [],
   "source": [
    "html = '''<html> hi there </html>'''"
   ]
  },
  {
   "cell_type": "code",
   "execution_count": 69,
   "metadata": {},
   "outputs": [
    {
     "name": "stdout",
     "output_type": "stream",
     "text": [
      "[]\n"
     ]
    }
   ],
   "source": [
    "matches = re.findall(\"<([A-Z][A-Z0-9]*)\\b[^>]*>(.*?)</\\1>\", html)\n",
    "print ( matches )"
   ]
  },
  {
   "cell_type": "markdown",
   "metadata": {},
   "source": [
    "### Credit card identification.\n",
    "**Problem** - Find credit card numbers identified by their category (Visa, Master Card ). These credit card numbers follow a certain pattern. Use the following pattern to identify the category. "
   ]
  },
  {
   "cell_type": "markdown",
   "metadata": {},
   "source": [
    "**Patterns** - \n",
    "- All visa card numbers start with a 4 and are either 13 or 16 numbers\n",
    "- All Master card numbers start with 51 through 55 or 2221 through 2720 and have exactly 16 digits\n",
    "- All Amex cards start with 34 or 37 and have exactly 15 digits"
   ]
  },
  {
   "cell_type": "code",
   "execution_count": 123,
   "metadata": {},
   "outputs": [],
   "source": [
    "text = '''4018-2345-0303-0339,\n",
    "          5335-6092-0182-9739,\n",
    "          4076-2929-0000-2222,\n",
    "          3777-5074-1547-439,\n",
    "          5451-3970-1507-5040,\n",
    "          3425-2515-2514-202,\n",
    "          3752-2681-2429-924,\n",
    "          4004-4759-3761-924,\n",
    "          2228-2545-5555-2542,\n",
    "          2296-2542-2587-2555,\n",
    "          2321-2547-5145-2222,\n",
    "          2650-2545-2222-5555,\n",
    "          2706-2546-2589-2515,\n",
    "          2713-9874-5263-6253,\n",
    "          2720-2541-3256-6985\n",
    "'''"
   ]
  },
  {
   "cell_type": "markdown",
   "metadata": {},
   "source": [
    "**Solution**"
   ]
  },
  {
   "cell_type": "markdown",
   "metadata": {},
   "source": [
    "Let's see if the following solution works for Visa cards. "
   ]
  },
  {
   "cell_type": "code",
   "execution_count": 90,
   "metadata": {},
   "outputs": [
    {
     "name": "stdout",
     "output_type": "stream",
     "text": [
      "['4018-2345-0303-0339', '4076-2929-0000-2222']\n"
     ]
    }
   ],
   "source": [
    "visa_matches = re.findall(\"4[0-9]{3}-[0-9]{4}-[0-9]{4}-[0-9][0-9]{3}?\", text)\n",
    "print ( visa_matches )"
   ]
  },
  {
   "cell_type": "markdown",
   "metadata": {},
   "source": [
    "The last card is not being picked up. Let's wrap the last 3 digits in a group and try it. "
   ]
  },
  {
   "cell_type": "code",
   "execution_count": 91,
   "metadata": {},
   "outputs": [
    {
     "name": "stdout",
     "output_type": "stream",
     "text": [
      "['339', '222', '']\n"
     ]
    }
   ],
   "source": [
    "visa_matches = re.findall(\"4[0-9]{3}-[0-9]{4}-[0-9]{4}-[0-9]([0-9]{3})?\", text)\n",
    "print ( visa_matches )"
   ]
  },
  {
   "cell_type": "markdown",
   "metadata": {},
   "source": [
    "ooh.. this time it only picks up the group. But we wanted the entire number, right ? There are a couple of options. \n",
    "- We can either put all of the remaining pattern also into groups.. like so "
   ]
  },
  {
   "cell_type": "code",
   "execution_count": 92,
   "metadata": {},
   "outputs": [
    {
     "name": "stdout",
     "output_type": "stream",
     "text": [
      "[('4018-2345-0303-0', '339'), ('4076-2929-0000-2', '222'), ('4004-4759-3761-9', '')]\n"
     ]
    }
   ],
   "source": [
    "visa_matches = re.findall(\"(4[0-9]{3}-[0-9]{4}-[0-9]{4}-[0-9])([0-9]{3})?\", text)\n",
    "print ( visa_matches )"
   ]
  },
  {
   "cell_type": "markdown",
   "metadata": {},
   "source": [
    "- or, we can let the last element in the pattern to not be a **non-capturing** group - meaning, it will still be a group from a syntax perspective, but will not be captured as a group. To do that, we use **?:**."
   ]
  },
  {
   "cell_type": "code",
   "execution_count": 93,
   "metadata": {},
   "outputs": [
    {
     "name": "stdout",
     "output_type": "stream",
     "text": [
      "['4018-2345-0303-0339', '4076-2929-0000-2222', '4004-4759-3761-9']\n"
     ]
    }
   ],
   "source": [
    "visa_matches = re.findall(\"4[0-9]{3}-[0-9]{4}-[0-9]{4}-[0-9](?:[0-9]{3})?\", text)\n",
    "print ( visa_matches )"
   ]
  },
  {
   "cell_type": "markdown",
   "metadata": {},
   "source": [
    "Whenever we use **?:** at the beginning of the group, it will be used to capture the pattern, but will not be captured into the group. Now, let's work on master card. "
   ]
  },
  {
   "cell_type": "markdown",
   "metadata": {},
   "source": [
    "Master card represents a different pattern. It has a pretty broad range of numbers - The beginning numbers start with\n",
    "\n",
    "- 51 through 55 OR\n",
    "- 2221 through 2720\n",
    "\n",
    "The first one is easy enough. Let's work on that first. "
   ]
  },
  {
   "cell_type": "code",
   "execution_count": 98,
   "metadata": {},
   "outputs": [
    {
     "name": "stdout",
     "output_type": "stream",
     "text": [
      "['5335-6092-0182-9739', '5451-3970-1507-5040']\n"
     ]
    }
   ],
   "source": [
    "mc_matches = re.findall(\"5[1-5][0-9]{2}-[0-9]{4}-[0-9]{4}-[0-9]{4}\", text)\n",
    "print ( mc_matches )"
   ]
  },
  {
   "cell_type": "markdown",
   "metadata": {},
   "source": [
    "The range 2221-2720 cannot be specified that easily. We need a different strategy for that. We can split this range as follows. \n",
    "\n",
    "- 2221-2229\n",
    "- 223x-229x ( 2230 to 2299 )\n",
    "- 23xx-26xx ( 2300 to 2699 )\n",
    "- 270x-2709 ( 2700 to 2709 )\n",
    "- 271x-2719 ( 2710 to 2719 )\n",
    "- 2720\n",
    "\n",
    "We need to code all these patters using an OR operator. "
   ]
  },
  {
   "cell_type": "code",
   "execution_count": 104,
   "metadata": {},
   "outputs": [
    {
     "name": "stdout",
     "output_type": "stream",
     "text": [
      "['2228-2545-5555-2542']\n"
     ]
    }
   ],
   "source": [
    "mc_matches = re.findall(\"222[1-9]-[0-9]{4}-[0-9]{4}-[0-9]{4}\",text)\n",
    "print(mc_matches)"
   ]
  },
  {
   "cell_type": "code",
   "execution_count": 107,
   "metadata": {},
   "outputs": [
    {
     "name": "stdout",
     "output_type": "stream",
     "text": [
      "['2296-2542-2587-2555']\n"
     ]
    }
   ],
   "source": [
    "mc_matches = re.findall(\"22[3-9][0-9]-[0-9]{4}-[0-9]{4}-[0-9]{4}\",text)\n",
    "print(mc_matches)"
   ]
  },
  {
   "cell_type": "code",
   "execution_count": 108,
   "metadata": {},
   "outputs": [
    {
     "name": "stdout",
     "output_type": "stream",
     "text": [
      "['2321-2547-5145-2222', '2650-2545-2222-5555']\n"
     ]
    }
   ],
   "source": [
    "mc_matches = re.findall(\"2[3-6][0-9]{2}-[0-9]{4}-[0-9]{4}-[0-9]{4}\",text)\n",
    "print(mc_matches)"
   ]
  },
  {
   "cell_type": "code",
   "execution_count": 111,
   "metadata": {},
   "outputs": [
    {
     "name": "stdout",
     "output_type": "stream",
     "text": [
      "['2706-2546-2589-2515']\n"
     ]
    }
   ],
   "source": [
    "mc_matches = re.findall(\"270[0-9]-[0-9]{4}-[0-9]{4}-[0-9]{4}\",text)\n",
    "print(mc_matches)"
   ]
  },
  {
   "cell_type": "code",
   "execution_count": 113,
   "metadata": {},
   "outputs": [
    {
     "name": "stdout",
     "output_type": "stream",
     "text": [
      "['2713-9874-5263-6253']\n"
     ]
    }
   ],
   "source": [
    "mc_matches = re.findall(\"271[0-9]-[0-9]{4}-[0-9]{4}-[0-9]{4}\",text)\n",
    "print(mc_matches)"
   ]
  },
  {
   "cell_type": "code",
   "execution_count": 115,
   "metadata": {},
   "outputs": [
    {
     "name": "stdout",
     "output_type": "stream",
     "text": [
      "['2720-2541-3256-6985']\n"
     ]
    }
   ],
   "source": [
    "mc_matches = re.findall(\"2720-[0-9]{4}-[0-9]{4}-[0-9]{4}\",text)\n",
    "print(mc_matches)"
   ]
  },
  {
   "cell_type": "markdown",
   "metadata": {},
   "source": [
    "In all these examples, the first four digits are the ones that are different. The pattern for the rest of the 12 numbers remain the same. So, let's compress all of these into an OR based patter for the first 4 digits and let the remaining 12 digits remain constant. "
   ]
  },
  {
   "cell_type": "code",
   "execution_count": 119,
   "metadata": {},
   "outputs": [
    {
     "name": "stdout",
     "output_type": "stream",
     "text": [
      "['5335-6092-0182-9739', '5451-3970-1507-5040', '2228-2545-5555-2542', '2296-2542-2587-2555', '2321-2547-5145-2222', '2650-2545-2222-5555', '2706-2546-2589-2515', '2713-9874-5263-6253', '2720-2541-3256-6985']\n"
     ]
    }
   ],
   "source": [
    "mc_matches = re.findall (\"(?:5[1-5][0-9]{2}|222[1-9]|22[3-9][0-9]|2[3-6][0-9]{2}|270[0-9]|271[0-9]|2720)-[0-9]{4}-[0-9]{4}-[0-9]{4}\", text)\n",
    "print ( mc_matches)"
   ]
  },
  {
   "cell_type": "markdown",
   "metadata": {},
   "source": [
    "There we go - that should cover all the possible combinations of Master cards. Now, lets move on to Amex. Amex has a really simple pattern - \n",
    "- All Amex cards start with 34 or 37 and have exactly 13 digits"
   ]
  },
  {
   "cell_type": "code",
   "execution_count": 127,
   "metadata": {},
   "outputs": [
    {
     "name": "stdout",
     "output_type": "stream",
     "text": [
      "['3777-5074-1547-439', '3425-2515-2514-202', '3752-2681-2429-924']\n"
     ]
    }
   ],
   "source": [
    "amex_matches = re.findall(\"3[47][0-9]{2}-[0-9]{4}-[0-9]{4}-[0-9]{3}\", text)\n",
    "print ( amex_matches )"
   ]
  },
  {
   "cell_type": "markdown",
   "metadata": {},
   "source": [
    "**Learning**\n",
    "- (**?:**...) is used to represent **non-capturing** groups - meaning, they will be used to identify patterns, but the specific pattern within that paranthesis will not be captured as a group. We have seen how this will be useful in case of Visa pattern. \n",
    "- Cycling through a range of numbers. We have seen how to cycle through a large range of numbers when we discussed the pattern for Master card. "
   ]
  },
  {
   "cell_type": "markdown",
   "metadata": {},
   "source": [
    "### Word occurances"
   ]
  },
  {
   "cell_type": "markdown",
   "metadata": {},
   "source": [
    "**Problem** - Find all the occurances of a word in a text and segregate them into 2 categories\n",
    "\n",
    "- 1 - standalone occurrence of the word\n",
    "- 2 - The word is part of another word. \n",
    "\n",
    "For example, the word \"bat\" can occur in isolation , like in the sentence (\"His cricket bat is awesome\"), or as part of a different word , like in (\"Aeriel combat vs land-based combat\"). "
   ]
  },
  {
   "cell_type": "markdown",
   "metadata": {},
   "source": [
    "**Solution** - Finding the pattern is quite easy. However, the trick is to find out if the word occurred individually or is part of another word. **word boundaries** can help in this case. **\\b** is used to specify a word boundary. "
   ]
  },
  {
   "cell_type": "code",
   "execution_count": 165,
   "metadata": {},
   "outputs": [],
   "source": [
    "text = '''Python is a general purpose programming language. Python's design philosopy ...\n",
    "          Let's pythonify some of the code...\n",
    "          while python is a high level language...'''\n",
    "          "
   ]
  },
  {
   "cell_type": "code",
   "execution_count": 166,
   "metadata": {},
   "outputs": [
    {
     "name": "stdout",
     "output_type": "stream",
     "text": [
      "[]\n"
     ]
    }
   ],
   "source": [
    "matches = re.findall(\"\\bPython\\b\", text)\n",
    "print ( matches )"
   ]
  },
  {
   "cell_type": "markdown",
   "metadata": {},
   "source": [
    "But it is not working. Why ? That is because **\\b** is a special escape character for backspace. When you specify that in the pattern string, it is not treated literally, but interpreted as a backspace. To avoid confusion, always use raw strings to define patterns. Raw strings can be specified in Python by prepending the string with a **r**. Let's try this again."
   ]
  },
  {
   "cell_type": "code",
   "execution_count": 169,
   "metadata": {},
   "outputs": [
    {
     "name": "stdout",
     "output_type": "stream",
     "text": [
      "['Python', 'Python']\n"
     ]
    }
   ],
   "source": [
    "matches = re.findall(r\"\\bPython\\b\", text)\n",
    "print ( matches )"
   ]
  },
  {
   "cell_type": "markdown",
   "metadata": {},
   "source": [
    "That's better. However, there are 3 occurrences of \"Python\". Why is python in the last line not being picked up ? That is because, regular expressions are case sensitive. The \"p\" in the word \"python\" in the last line is lower case. If you wanted to do a case sensitive search, use **global flags**. These can be specified as a third parameter in the **findall ( )** function. "
   ]
  },
  {
   "cell_type": "code",
   "execution_count": 170,
   "metadata": {},
   "outputs": [
    {
     "name": "stdout",
     "output_type": "stream",
     "text": [
      "['Python', 'Python', 'python']\n"
     ]
    }
   ],
   "source": [
    "matches = re.findall(r\"\\bPython\\b\", text, re.IGNORECASE) # you can also use re.I as a shortcut\n",
    "print ( matches )"
   ]
  },
  {
   "cell_type": "markdown",
   "metadata": {},
   "source": [
    "**Learning**\n",
    "- **\\b** is used to specify a word boundary.\n",
    "- Always prepend the pattern string with **r** to make it a raw string. This way, the characters in the pattern are taken literally.\n",
    "- **global flags** can be used to alter the way regular expressions work. One of the global flags we have seen is **re.IGNORECASE**. It can be used to do a case insensitive search. "
   ]
  },
  {
   "cell_type": "code",
   "execution_count": null,
   "metadata": {},
   "outputs": [],
   "source": []
  }
 ],
 "metadata": {
  "kernelspec": {
   "display_name": "Python 3",
   "language": "python",
   "name": "python3"
  },
  "language_info": {
   "codemirror_mode": {
    "name": "ipython",
    "version": 3
   },
   "file_extension": ".py",
   "mimetype": "text/x-python",
   "name": "python",
   "nbconvert_exporter": "python",
   "pygments_lexer": "ipython3",
   "version": "3.7.3"
  }
 },
 "nbformat": 4,
 "nbformat_minor": 4
}
